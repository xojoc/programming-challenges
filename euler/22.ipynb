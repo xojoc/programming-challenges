{
 "cells": [
  {
   "cell_type": "code",
   "execution_count": null,
   "metadata": {},
   "outputs": [],
   "source": [
    "from urllib.request import urlopen\n",
    "\n",
    "\n",
    "def read_names():\n",
    "    names_data = \"\"\n",
    "    try:\n",
    "        with open(\"22.txt\") as f:\n",
    "            names_data = f.read()\n",
    "    except FileNotFoundError:\n",
    "        with urlopen(\"https://xojoc.pw/project-euler/22.txt\") as response:\n",
    "            names_data = response.read().decode()\n",
    "\n",
    "    return (name.strip('\"\\n') for name in names_data.split(sep=','))\n",
    "\n",
    "\n",
    "def name_score(name):\n",
    "    return sum(ord(l) - ord('A') + 1 for l in name)\n",
    "\n",
    "\n",
    "total = 0\n",
    "names = sorted(read_names())\n",
    "for nth, name in enumerate(names, start=1):\n",
    "    total += nth * name_score(name)"
   ]
  }
 ],
 "metadata": {
  "kernelspec": {
   "display_name": "Python 3",
   "language": "python",
   "name": "python3"
  },
  "language_info": {
   "codemirror_mode": {
    "name": "ipython",
    "version": 3
   },
   "file_extension": ".py",
   "mimetype": "text/x-python",
   "name": "python",
   "nbconvert_exporter": "python",
   "pygments_lexer": "ipython3",
   "version": "3.7.4"
  },
  "title": "Names scores"
 },
 "nbformat": 4,
 "nbformat_minor": 2
}
