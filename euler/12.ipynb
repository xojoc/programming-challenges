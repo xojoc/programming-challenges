{
 "cells": [
  {
   "cell_type": "markdown",
   "metadata": {},
   "source": [
    "Simple bruteforce."
   ]
  },
  {
   "cell_type": "code",
   "execution_count": 2,
   "metadata": {},
   "outputs": [
    {
     "name": "stdout",
     "output_type": "stream",
     "text": [
      "76576500\n"
     ]
    }
   ],
   "source": [
    "import itertools, sympy\n",
    "\n",
    "Tn = 0\n",
    "\n",
    "for n in itertools.count(1):\n",
    "    Tn += n\n",
    "    if sympy.divisor_count(Tn) > 500:\n",
    "        print(Tn)\n",
    "        break"
   ]
  },
  {
   "cell_type": "code",
   "execution_count": null,
   "metadata": {},
   "outputs": [],
   "source": []
  }
 ],
 "metadata": {
  "kernelspec": {
   "display_name": "Python 3",
   "language": "python",
   "name": "python3"
  },
  "title": "Highly divisible triangular number"
 },
 "nbformat": 4,
 "nbformat_minor": 2
}
