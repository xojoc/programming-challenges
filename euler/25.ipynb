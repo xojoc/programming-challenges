{
 "cells": [
  {
   "cell_type": "code",
   "execution_count": null,
   "metadata": {},
   "outputs": [],
   "source": [
    "Fn_1 = 1\n",
    "Fn = 1\n",
    "n = 2\n",
    "\n",
    "while Fn < 10**999:\n",
    "    Fn_1, Fn = Fn,  Fn_1 + Fn\n",
    "    n += 1"
   ]
  }
 ],
 "metadata": {
  "kernelspec": {
   "display_name": "Python 3",
   "language": "python",
   "name": "python3"
  },
  "language_info": {
   "codemirror_mode": {
    "name": "ipython",
    "version": 3
   },
   "file_extension": ".py",
   "mimetype": "text/x-python",
   "name": "python",
   "nbconvert_exporter": "python",
   "pygments_lexer": "ipython3",
   "version": "3.7.4"
  },
  "title": "1000-digit Fibonacci number"
 },
 "nbformat": 4,
 "nbformat_minor": 2
}
