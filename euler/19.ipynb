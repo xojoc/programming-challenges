{
 "cells": [
  {
   "cell_type": "code",
   "execution_count": 1,
   "metadata": {},
   "outputs": [
    {
     "name": "stdout",
     "output_type": "stream",
     "text": [
      "171\n"
     ]
    }
   ],
   "source": [
    "import datetime\n",
    "\n",
    "\n",
    "def count_sundays():\n",
    "    sundays = 0\n",
    "    one_day = datetime.timedelta(days=1)\n",
    "    date = datetime.date(1901, 1, 1)\n",
    "    while date <= datetime.date(2000, 12, 31):\n",
    "        if date.day == 1 and date.isoweekday() == 7:\n",
    "            sundays += 1\n",
    "        date += one_day\n",
    "    return sundays\n",
    "\n",
    "\n",
    "print(count_sundays())"
   ]
  },
  {
   "cell_type": "code",
   "execution_count": null,
   "metadata": {},
   "outputs": [],
   "source": []
  }
 ],
 "metadata": {
  "kernelspec": {
   "display_name": "Python 3",
   "language": "python",
   "name": "python3"
  },
  "language_info": {
   "codemirror_mode": {
    "name": "ipython",
    "version": 3
   },
   "file_extension": ".py",
   "mimetype": "text/x-python",
   "name": "python",
   "nbconvert_exporter": "python",
   "pygments_lexer": "ipython3",
   "version": "3.7.5rc1"
  },
  "title": "Counting Sundays"
 },
 "nbformat": 4,
 "nbformat_minor": 2
}
