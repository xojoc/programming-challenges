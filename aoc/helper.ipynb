{
 "cells": [
  {
   "cell_type": "markdown",
   "id": "understanding-determination",
   "metadata": {},
   "source": [
    "Some common used functions to avoid to rewrite them."
   ]
  },
  {
   "cell_type": "code",
   "execution_count": null,
   "id": "latin-slovakia",
   "metadata": {},
   "outputs": [],
   "source": [
    "def read_file(file):\n",
    "    s = \"\"\n",
    "    try:\n",
    "        with open(file) as f:\n",
    "            s = f.read()\n",
    "    except FileNotFoundError:\n",
    "        from urllib.request import urlopen\n",
    "        with urlopen(\"https://xojoc.pw/challenges/aoc/\" + file) as response:\n",
    "            s = response.read().decode()\n",
    "    \n",
    "    return s\n",
    "\n",
    "def open_file(file):\n",
    "    s = \"\"\n",
    "    try:\n",
    "        return open(file)\n",
    "    except FileNotFoundError:\n",
    "        from urllib.request import urlopen\n",
    "        return urlopen(\"https://xojoc.pw/challenges/aoc/\" + file)"
   ]
  }
 ],
 "metadata": {
  "kernelspec": {
   "display_name": "Python 3",
   "language": "python",
   "name": "python3"
  },
  "language_info": {
   "codemirror_mode": {
    "name": "ipython",
    "version": 3
   },
   "file_extension": ".py",
   "mimetype": "text/x-python",
   "name": "python",
   "nbconvert_exporter": "python",
   "pygments_lexer": "ipython3",
   "version": "3.9.2"
  }
 },
 "nbformat": 4,
 "nbformat_minor": 5
}
