{
 "cells": [
  {
   "cell_type": "code",
   "execution_count": 63,
   "id": "ordinary-offset",
   "metadata": {},
   "outputs": [],
   "source": [
    "def count_houses(it, santas=1):\n",
    "    positions = []\n",
    "    for _ in range(santas):\n",
    "        positions.append([0,0])\n",
    "\n",
    "    houses = set()\n",
    "    turn = 0\n",
    "    for pos in positions:\n",
    "        houses.add(tuple(pos))\n",
    "\n",
    "    for ch in it:\n",
    "        if ch == '^':\n",
    "            positions[turn][1] += 1\n",
    "        elif ch == 'v':\n",
    "            positions[turn][1] -= 1\n",
    "        elif ch == '>':\n",
    "            positions[turn][0] += 1\n",
    "        elif ch == '<':\n",
    "            positions[turn][0] -= 1\n",
    "        else:\n",
    "            continue\n",
    "        houses.add(tuple(positions[turn]))\n",
    "        turn = (turn + 1) % santas\n",
    "    \n",
    "    return len(houses)"
   ]
  },
  {
   "cell_type": "code",
   "execution_count": 64,
   "id": "impossible-impossible",
   "metadata": {},
   "outputs": [],
   "source": [
    "import import_ipynb\n",
    "import helper\n",
    "s = helper.read_file('2015_3.txt')"
   ]
  },
  {
   "cell_type": "code",
   "execution_count": 65,
   "id": "czech-jones",
   "metadata": {},
   "outputs": [],
   "source": [
    "assert count_houses('>') == 2\n",
    "assert count_houses('^>v<') == 4\n",
    "assert count_houses('^v^v^v^v^v') == 2"
   ]
  },
  {
   "cell_type": "code",
   "execution_count": 66,
   "id": "outer-celtic",
   "metadata": {},
   "outputs": [
    {
     "data": {
      "text/plain": [
       "2592"
      ]
     },
     "execution_count": 66,
     "metadata": {},
     "output_type": "execute_result"
    }
   ],
   "source": [
    "count_houses(s)"
   ]
  },
  {
   "cell_type": "code",
   "execution_count": 67,
   "id": "prostate-japanese",
   "metadata": {},
   "outputs": [],
   "source": [
    "assert count_houses('^v', 2) == 3\n",
    "assert count_houses('^>v<', 2) == 3\n",
    "assert count_houses('^v^v^v^v^v', 2) == 11"
   ]
  },
  {
   "cell_type": "code",
   "execution_count": 68,
   "id": "finite-swing",
   "metadata": {},
   "outputs": [
    {
     "data": {
      "text/plain": [
       "2360"
      ]
     },
     "execution_count": 68,
     "metadata": {},
     "output_type": "execute_result"
    }
   ],
   "source": [
    "count_houses(s, 2)"
   ]
  }
 ],
 "metadata": {
  "kernelspec": {
   "display_name": "Python 3",
   "language": "python",
   "name": "python3"
  },
  "language_info": {
   "codemirror_mode": {
    "name": "ipython",
    "version": 3
   },
   "file_extension": ".py",
   "mimetype": "text/x-python",
   "name": "python",
   "nbconvert_exporter": "python",
   "pygments_lexer": "ipython3",
   "version": "3.9.2"
  },
  "title": "Perfectly Spherical Houses in a Vacuum"
 },
 "nbformat": 4,
 "nbformat_minor": 5
}
